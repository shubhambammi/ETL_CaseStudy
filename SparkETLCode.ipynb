{
 "cells": [
  {
   "cell_type": "code",
   "execution_count": 2,
   "metadata": {},
   "outputs": [],
   "source": [
    "import os\n",
    "import sys\n",
    "os.environ[\"PYSPARK_PYTHON\"] = \"/opt/cloudera/parcels/Anaconda/bin/python\"\n",
    "os.environ[\"JAVA_HOME\"] = \"/usr/java/jdk1.8.0_161/jre\"\n",
    "os.environ[\"SPARK_HOME\"] = \"/opt/cloudera/parcels/SPARK2-2.3.0.cloudera2-1.cdh5.13.3.p0.316101/lib/spark2/\"\n",
    "os.environ[\"PYLIB\"] = os.environ[\"SPARK_HOME\"] + \"/python/lib\"\n",
    "sys.path.insert(0, os.environ[\"PYLIB\"] +\"/py4j-0.10.6-src.zip\")\n",
    "sys.path.insert(0, os.environ[\"PYLIB\"] +\"/pyspark.zip\")"
   ]
  },
  {
   "cell_type": "code",
   "execution_count": 3,
   "metadata": {},
   "outputs": [
    {
     "data": {
      "text/html": [
       "\n",
       "            <div>\n",
       "                <p><b>SparkSession - hive</b></p>\n",
       "                \n",
       "        <div>\n",
       "            <p><b>SparkContext</b></p>\n",
       "\n",
       "            <p><a href=\"http://ip-10-0-0-73.ec2.internal:4040\">Spark UI</a></p>\n",
       "\n",
       "            <dl>\n",
       "              <dt>Version</dt>\n",
       "                <dd><code>v2.3.0.cloudera2</code></dd>\n",
       "              <dt>Master</dt>\n",
       "                <dd><code>local</code></dd>\n",
       "              <dt>AppName</dt>\n",
       "                <dd><code>pairRDD_demo</code></dd>\n",
       "            </dl>\n",
       "        </div>\n",
       "        \n",
       "            </div>\n",
       "        "
      ],
      "text/plain": [
       "<pyspark.sql.session.SparkSession at 0x7f231671a610>"
      ]
     },
     "execution_count": 3,
     "metadata": {},
     "output_type": "execute_result"
    }
   ],
   "source": [
    "# Import required libraries\n",
    "\n",
    "from pyspark.sql import functions as sf\n",
    "import pandas as pd\n",
    "from pyspark.sql import SparkSession\n",
    "spark = SparkSession.builder.appName('pairRDD_demo').master(\"local\").getOrCreate()\n",
    "spark\n"
   ]
  },
  {
   "cell_type": "code",
   "execution_count": 4,
   "metadata": {},
   "outputs": [],
   "source": [
    "# Load the data from HDFS into dataframe\n",
    "\n",
    "df = spark.read.load(\"new_etldata_data/part-m-00000\", format=\"csv\", sep=\",\", inferSchema=\"true\")\n"
   ]
  },
  {
   "cell_type": "code",
   "execution_count": 5,
   "metadata": {},
   "outputs": [
    {
     "data": {
      "text/plain": [
       "2468572"
      ]
     },
     "execution_count": 5,
     "metadata": {},
     "output_type": "execute_result"
    }
   ],
   "source": [
    "# Check count of data after importing data from HDFS to dataframe\n",
    "\n",
    "df.count()"
   ]
  },
  {
   "cell_type": "code",
   "execution_count": 6,
   "metadata": {},
   "outputs": [
    {
     "name": "stdout",
     "output_type": "stream",
     "text": [
      "root\n",
      " |-- _c0: integer (nullable = true)\n",
      " |-- _c1: string (nullable = true)\n",
      " |-- _c2: integer (nullable = true)\n",
      " |-- _c3: string (nullable = true)\n",
      " |-- _c4: integer (nullable = true)\n",
      " |-- _c5: string (nullable = true)\n",
      " |-- _c6: integer (nullable = true)\n",
      " |-- _c7: string (nullable = true)\n",
      " |-- _c8: string (nullable = true)\n",
      " |-- _c9: string (nullable = true)\n",
      " |-- _c10: integer (nullable = true)\n",
      " |-- _c11: integer (nullable = true)\n",
      " |-- _c12: double (nullable = true)\n",
      " |-- _c13: double (nullable = true)\n",
      " |-- _c14: string (nullable = true)\n",
      " |-- _c15: string (nullable = true)\n",
      " |-- _c16: integer (nullable = true)\n",
      " |-- _c17: string (nullable = true)\n",
      " |-- _c18: integer (nullable = true)\n",
      " |-- _c19: string (nullable = true)\n",
      " |-- _c20: double (nullable = true)\n",
      " |-- _c21: double (nullable = true)\n",
      " |-- _c22: integer (nullable = true)\n",
      " |-- _c23: string (nullable = true)\n",
      " |-- _c24: double (nullable = true)\n",
      " |-- _c25: integer (nullable = true)\n",
      " |-- _c26: integer (nullable = true)\n",
      " |-- _c27: integer (nullable = true)\n",
      " |-- _c28: integer (nullable = true)\n",
      " |-- _c29: double (nullable = true)\n",
      " |-- _c30: integer (nullable = true)\n",
      " |-- _c31: integer (nullable = true)\n",
      " |-- _c32: string (nullable = true)\n",
      " |-- _c33: string (nullable = true)\n",
      "\n"
     ]
    }
   ],
   "source": [
    "# Printing the schema \n",
    "\n",
    "df.printSchema()"
   ]
  },
  {
   "cell_type": "code",
   "execution_count": 7,
   "metadata": {},
   "outputs": [
    {
     "name": "stdout",
     "output_type": "stream",
     "text": [
      "+----+-------+---+------+---+--------+---+---------------+------------------+--------------------+----+----+------+------+----+--------------------+----+----------+----+----+------+------+-------+--------------+------+----+----+----+----+-----+----+----+-------+--------------------+\n",
      "| _c0|    _c1|_c2|   _c3|_c4|     _c5|_c6|            _c7|               _c8|                 _c9|_c10|_c11|  _c12|  _c13|_c14|                _c15|_c16|      _c17|_c18|_c19|  _c20|  _c21|   _c22|          _c23|  _c24|_c25|_c26|_c27|_c28| _c29|_c30|_c31|   _c32|                _c33|\n",
      "+----+-------+---+------+---+--------+---+---------------+------------------+--------------------+----+----+------+------+----+--------------------+----+----------+----+----+------+------+-------+--------------+------+----+----+----+----+-----+----+----+-------+--------------------+\n",
      "|2017|January|  1|Sunday|  0|  Active|  1|            NCR|        NÃƒÂ¦stved|         Farimagsvej|   8|4700|55.233|11.763| DKK|          MasterCard|5643|Withdrawal|null|null| 55.23|11.761|2616038|      Naestved|281.15|1014|  87|   7| 260|0.215|  92| 500|   Rain|          light rain|\n",
      "|2017|January|  1|Sunday|  0|Inactive|  2|            NCR|          Vejgaard|          Hadsundvej|  20|9000|57.043|  9.95| DKK|          MasterCard|1764|Withdrawal|null|null|57.048| 9.935|2616235|NÃƒÂ¸rresundby|280.64|1020|  93|   9| 250| 0.59|  92| 500|   Rain|          light rain|\n",
      "|2017|January|  1|Sunday|  0|Inactive|  2|            NCR|          Vejgaard|          Hadsundvej|  20|9000|57.043|  9.95| DKK|                VISA|1891|Withdrawal|null|null|57.048| 9.935|2616235|NÃƒÂ¸rresundby|280.64|1020|  93|   9| 250| 0.59|  92| 500|   Rain|          light rain|\n",
      "|2017|January|  1|Sunday|  0|Inactive|  3|            NCR|             Ikast| RÃƒÂ¥dhusstrÃƒÂ¦det|  12|7430|56.139| 9.154| DKK|                VISA|4166|Withdrawal|null|null|56.139| 9.158|2619426|         Ikast|281.15|1011| 100|   6| 240|  0.0|  75| 300|Drizzle|light intensity d...|\n",
      "|2017|January|  1|Sunday|  0|  Active|  4|            NCR|        Svogerslev|        BrÃƒÂ¸nsager|   1|4000|55.634|12.018| DKK|          MasterCard|5153|Withdrawal|null|null|55.642| 12.08|2614481|      Roskilde|280.61|1014|  87|   7| 260|  0.0|  88| 701|   Mist|                mist|\n",
      "|2017|January|  1|Sunday|  0|  Active|  5|            NCR|              Nibe|              Torvet|   1|9240|56.983| 9.639| DKK|          MasterCard|3269|Withdrawal|null|null|56.981| 9.639|2616483|          Nibe|280.64|1020|  93|   9| 250| 0.59|  92| 500|   Rain|          light rain|\n",
      "|2017|January|  1|Sunday|  0|  Active|  6|            NCR|        Fredericia|    SjÃƒÂ¦llandsgade|  33|7000|55.564| 9.757| DKK|          MasterCard| 887|Withdrawal|null|null|55.566| 9.753|2621951|    Fredericia|281.15|1014|  93|   7| 230| 0.29|  92| 500|   Rain|          light rain|\n",
      "|2017|January|  1|Sunday|  0|  Active|  7|Diebold Nixdorf|         Hjallerup|   Hjallerup Centret|  18|9320|57.168|10.148| DKK|  Mastercard - on-us|4626|Withdrawal|null|null|57.165|10.146|2620275|     Hjallerup|280.64|1020|  93|   9| 250| 0.59|  92| 500|   Rain|          light rain|\n",
      "|2017|January|  1|Sunday|  0|  Active|  8|            NCR|       GlyngÃƒÂ¸re|         FÃƒÂ¦rgevej|   1|7870|56.762| 8.867| DKK|          MasterCard| 470|Withdrawal|null|null|56.793| 8.853|2615964| Nykobing Mors|281.15|1011| 100|   6| 240|  0.0|  75| 300|Drizzle|light intensity d...|\n",
      "|2017|January|  1|Sunday|  0|  Active|  9|Diebold Nixdorf|           Hadsund|           Storegade|  12|9560|56.716|10.114| DKK|                VISA|8473|Withdrawal|null|null|56.715|10.117|2620952|       Hadsund|280.64|1020|  93|   9| 250| 0.59|  92| 500|   Rain|          light rain|\n",
      "|2017|January|  1|Sunday|  0|  Active| 10|            NCR|    NÃƒÂ¸rresundby|              Torvet|   6|9400|57.059| 9.922| DKK|             Dankort| 953|Withdrawal|null|null|57.048| 9.919|2624886|       Aalborg|280.64|1020|  93|   9| 250| 0.59|  92| 500|   Rain|          light rain|\n",
      "|2017|January|  1|Sunday|  0|  Active| 11|            NCR|         Sauersvej|Fridtjof Nansens Vej|   2|9210|57.023|  9.94| DKK|        Visa Dankort|9346|Withdrawal|null|null|57.048| 9.935|2616235|NÃƒÂ¸rresundby|280.64|1020|  93|   9| 250| 0.59|  92| 500|   Rain|          light rain|\n",
      "|2017|January|  1|Sunday|  0|Inactive|  2|            NCR|          Vejgaard|          Hadsundvej|  20|9000|57.043|  9.95| DKK|  Mastercard - on-us|3874|Withdrawal|null|null|57.048| 9.935|2616235|NÃƒÂ¸rresundby|280.64|1020|  93|   9| 250| 0.59|  92| 500|   Rain|          light rain|\n",
      "|2017|January|  1|Sunday|  0|Inactive| 12|            NCR|ÃƒËœsterÃƒÂ¥  Duus|        ÃƒËœsterÃƒÂ¥|  12|9000|57.049| 9.922| DKK|  Mastercard - on-us|1329|Withdrawal|null|null|57.048| 9.919|2624886|       Aalborg|280.64|1020|  93|   9| 250| 0.59|  92| 500|   Rain|          light rain|\n",
      "|2017|January|  1|Sunday|  0|  Active| 13|            NCR|           SÃƒÂ¦by|          Vestergade|   3|9300|57.334|10.515| DKK|  Mastercard - on-us|5024|Withdrawal|null|null|57.441|10.537|2621927| Frederikshavn|281.14|1019|  94|  12| 251|1.275|  92| 500|   Rain|          light rain|\n",
      "|2017|January|  1|Sunday|  0|Inactive| 14|            NCR|        HÃƒÂ¸rning|        NÃƒÂ¸rrealle|  12|8362|56.086|10.037| DKK|Visa Dankort - on-us|1133|Withdrawal|null|null|56.157|10.211|2624652|         Arhus|281.15|1012|  87|   5| 250|  0.0|  92| 300|Drizzle|light intensity d...|\n",
      "|2017|January|  1|Sunday|  0|  Active| 15|            NCR|            Vestre|           Kastetvej|  36|9000|57.053| 9.905| DKK|          MasterCard| 594|Withdrawal|null|null|57.048| 9.919|2624886|       Aalborg|280.64|1020|  93|   9| 250| 0.59|  92| 500|   Rain|          light rain|\n",
      "|2017|January|  1|Sunday|  0|Inactive| 12|            NCR|ÃƒËœsterÃƒÂ¥  Duus|        ÃƒËœsterÃƒÂ¥|  12|9000|57.049| 9.922| DKK|  Mastercard - on-us|9570|Withdrawal|null|null|57.048| 9.919|2624886|       Aalborg|280.64|1020|  93|   9| 250| 0.59|  92| 500|   Rain|          light rain|\n",
      "|2017|January|  1|Sunday|  0|Inactive| 16|            NCR|             Skive|            Adelgade|   8|7800|56.567| 9.027| DKK|        Visa Dankort|6068|Withdrawal|null|null|56.567| 9.033|2613731|         Skive|281.15|1012| 100|   7| 240|  0.0|  75| 300|Drizzle|light intensity d...|\n",
      "|2017|January|  1|Sunday|  0|  Active| 17|            NCR|           Randers|        ÃƒËœstervold|  16|8900|56.462|10.038| DKK|                VISA|1630|Withdrawal|null|null|56.715|10.117|2620952|       Hadsund|280.64|1020|  93|   9| 250| 0.59|  92| 500|   Rain|          light rain|\n",
      "+----+-------+---+------+---+--------+---+---------------+------------------+--------------------+----+----+------+------+----+--------------------+----+----------+----+----+------+------+-------+--------------+------+----+----+----+----+-----+----+----+-------+--------------------+\n",
      "only showing top 20 rows\n",
      "\n"
     ]
    }
   ],
   "source": [
    "# Check the data\n",
    "\n",
    "df.show(5)"
   ]
  },
  {
   "cell_type": "code",
   "execution_count": 11,
   "metadata": {},
   "outputs": [],
   "source": [
    "#Specifying the schema instead of inferring it \n",
    "\n",
    "from pyspark.sql.types import StructType, StructField, IntegerType, StringType, BooleanType, DoubleType, LongType\n",
    "\n",
    "fileSchema = StructType([StructField('year', IntegerType(),True),\n",
    "                        StructField('month', StringType(),True),\n",
    "                        StructField('day', IntegerType(),True),\n",
    "                        StructField('weekday', StringType(),True),\n",
    "                        StructField('hour', IntegerType(),True),\n",
    "                        StructField('atm_status', StringType(),True),\n",
    "                        StructField('atm_id', StringType(),True),\n",
    "                        StructField('atm_manufacturer', StringType(),True),\n",
    "                        StructField('atm_location', StringType(),True),\n",
    "                        StructField('atm_streetname', StringType(),True),\n",
    "                        StructField('atm_street_number', IntegerType(),True),\n",
    "                        StructField('atm_zipcode', IntegerType(),True),\n",
    "                        StructField('atm_lat', DoubleType(),True),\n",
    "                        StructField('atm_lon', DoubleType(),True),\n",
    "                        StructField('currency', StringType(),True),\n",
    "                        StructField('card_type', StringType(),True),\n",
    "                        StructField('transaction_amount', IntegerType(),True),\n",
    "                        StructField('service', StringType(),True),\n",
    "                        StructField('message_code', StringType(),True),\n",
    "                        StructField('message_text', StringType(),True),\n",
    "                        StructField('weather_lat', DoubleType(),True),\n",
    "                        StructField('weather_lon', DoubleType(),True),\n",
    "                        StructField('weather_city_id', IntegerType(),True),\n",
    "                        StructField('weather_city_name', StringType(),True),\n",
    "                        StructField('temp', DoubleType(),True),\n",
    "                        StructField('pressure', IntegerType(),True),\n",
    "                        StructField('humidity', IntegerType(),True),\n",
    "                        StructField('wind_speed', IntegerType(),True),\n",
    "                        StructField('wind_deg', IntegerType(),True),\n",
    "                        StructField('rain_3h', DoubleType(),True),\n",
    "                        StructField('clouds_all', IntegerType(),True),\n",
    "                        StructField('weather_id', IntegerType(),True),\n",
    "                        StructField('weather_main', StringType(),True),\n",
    "                        StructField('weather_description', StringType(),True)])\n",
    "\n"
   ]
  },
  {
   "cell_type": "code",
   "execution_count": 12,
   "metadata": {},
   "outputs": [],
   "source": [
    "# Load the data with required Schema\n",
    "\n",
    "df_main = spark.read.load(\"new_etldata_data/part-m-00000\", format=\"csv\", sep=\",\", schema = fileSchema)"
   ]
  },
  {
   "cell_type": "code",
   "execution_count": 13,
   "metadata": {},
   "outputs": [
    {
     "name": "stdout",
     "output_type": "stream",
     "text": [
      "root\n",
      " |-- year: integer (nullable = true)\n",
      " |-- month: string (nullable = true)\n",
      " |-- day: integer (nullable = true)\n",
      " |-- weekday: string (nullable = true)\n",
      " |-- hour: integer (nullable = true)\n",
      " |-- atm_status: string (nullable = true)\n",
      " |-- atm_id: string (nullable = true)\n",
      " |-- atm_manufacturer: string (nullable = true)\n",
      " |-- atm_location: string (nullable = true)\n",
      " |-- atm_streetname: string (nullable = true)\n",
      " |-- atm_street_number: integer (nullable = true)\n",
      " |-- atm_zipcode: integer (nullable = true)\n",
      " |-- atm_lat: double (nullable = true)\n",
      " |-- atm_lon: double (nullable = true)\n",
      " |-- currency: string (nullable = true)\n",
      " |-- card_type: string (nullable = true)\n",
      " |-- transaction_amount: integer (nullable = true)\n",
      " |-- service: string (nullable = true)\n",
      " |-- message_code: string (nullable = true)\n",
      " |-- message_text: string (nullable = true)\n",
      " |-- weather_lat: double (nullable = true)\n",
      " |-- weather_lon: double (nullable = true)\n",
      " |-- weather_city_id: integer (nullable = true)\n",
      " |-- weather_city_name: string (nullable = true)\n",
      " |-- temp: double (nullable = true)\n",
      " |-- pressure: integer (nullable = true)\n",
      " |-- humidity: integer (nullable = true)\n",
      " |-- wind_speed: integer (nullable = true)\n",
      " |-- wind_deg: integer (nullable = true)\n",
      " |-- rain_3h: double (nullable = true)\n",
      " |-- clouds_all: integer (nullable = true)\n",
      " |-- weather_id: integer (nullable = true)\n",
      " |-- weather_main: string (nullable = true)\n",
      " |-- weather_description: string (nullable = true)\n",
      "\n"
     ]
    }
   ],
   "source": [
    "# print the schema\n",
    "\n",
    "df_main.printSchema()"
   ]
  },
  {
   "cell_type": "code",
   "execution_count": 14,
   "metadata": {},
   "outputs": [
    {
     "name": "stdout",
     "output_type": "stream",
     "text": [
      "+----+-------+---+-------+----+----------+------+----------------+------------+-------------------+-----------------+-----------+-------+-------+--------+----------+------------------+----------+------------+------------+-----------+-----------+---------------+-----------------+------+--------+--------+----------+--------+-------+----------+----------+------------+--------------------+\n",
      "|year|  month|day|weekday|hour|atm_status|atm_id|atm_manufacturer|atm_location|     atm_streetname|atm_street_number|atm_zipcode|atm_lat|atm_lon|currency| card_type|transaction_amount|   service|message_code|message_text|weather_lat|weather_lon|weather_city_id|weather_city_name|  temp|pressure|humidity|wind_speed|wind_deg|rain_3h|clouds_all|weather_id|weather_main| weather_description|\n",
      "+----+-------+---+-------+----+----------+------+----------------+------------+-------------------+-----------------+-----------+-------+-------+--------+----------+------------------+----------+------------+------------+-----------+-----------+---------------+-----------------+------+--------+--------+----------+--------+-------+----------+----------+------------+--------------------+\n",
      "|2017|January|  1| Sunday|   0|    Active|     1|             NCR|  NÃƒÂ¦stved|        Farimagsvej|                8|       4700| 55.233| 11.763|     DKK|MasterCard|              5643|Withdrawal|        null|        null|      55.23|     11.761|        2616038|         Naestved|281.15|    1014|      87|         7|     260|  0.215|        92|       500|        Rain|          light rain|\n",
      "|2017|January|  1| Sunday|   0|  Inactive|     2|             NCR|    Vejgaard|         Hadsundvej|               20|       9000| 57.043|   9.95|     DKK|MasterCard|              1764|Withdrawal|        null|        null|     57.048|      9.935|        2616235|   NÃƒÂ¸rresundby|280.64|    1020|      93|         9|     250|   0.59|        92|       500|        Rain|          light rain|\n",
      "|2017|January|  1| Sunday|   0|  Inactive|     2|             NCR|    Vejgaard|         Hadsundvej|               20|       9000| 57.043|   9.95|     DKK|      VISA|              1891|Withdrawal|        null|        null|     57.048|      9.935|        2616235|   NÃƒÂ¸rresundby|280.64|    1020|      93|         9|     250|   0.59|        92|       500|        Rain|          light rain|\n",
      "|2017|January|  1| Sunday|   0|  Inactive|     3|             NCR|       Ikast|RÃƒÂ¥dhusstrÃƒÂ¦det|               12|       7430| 56.139|  9.154|     DKK|      VISA|              4166|Withdrawal|        null|        null|     56.139|      9.158|        2619426|            Ikast|281.15|    1011|     100|         6|     240|    0.0|        75|       300|     Drizzle|light intensity d...|\n",
      "|2017|January|  1| Sunday|   0|    Active|     4|             NCR|  Svogerslev|       BrÃƒÂ¸nsager|                1|       4000| 55.634| 12.018|     DKK|MasterCard|              5153|Withdrawal|        null|        null|     55.642|      12.08|        2614481|         Roskilde|280.61|    1014|      87|         7|     260|    0.0|        88|       701|        Mist|                mist|\n",
      "+----+-------+---+-------+----+----------+------+----------------+------------+-------------------+-----------------+-----------+-------+-------+--------+----------+------------------+----------+------------+------------+-----------+-----------+---------------+-----------------+------+--------+--------+----------+--------+-------+----------+----------+------------+--------------------+\n",
      "only showing top 5 rows\n",
      "\n"
     ]
    }
   ],
   "source": [
    "# Show Data\n",
    "\n",
    "df_main.show(5)"
   ]
  },
  {
   "cell_type": "code",
   "execution_count": 15,
   "metadata": {},
   "outputs": [
    {
     "data": {
      "text/plain": [
       "2468572"
      ]
     },
     "execution_count": 15,
     "metadata": {},
     "output_type": "execute_result"
    }
   ],
   "source": [
    "# Check the count\n",
    "\n",
    "df_main.count()"
   ]
  },
  {
   "cell_type": "code",
   "execution_count": 16,
   "metadata": {},
   "outputs": [
    {
     "data": {
      "text/plain": [
       "['year',\n",
       " 'month',\n",
       " 'day',\n",
       " 'weekday',\n",
       " 'hour',\n",
       " 'atm_status',\n",
       " 'atm_id',\n",
       " 'atm_manufacturer',\n",
       " 'atm_location',\n",
       " 'atm_streetname',\n",
       " 'atm_street_number',\n",
       " 'atm_zipcode',\n",
       " 'atm_lat',\n",
       " 'atm_lon',\n",
       " 'currency',\n",
       " 'card_type',\n",
       " 'transaction_amount',\n",
       " 'service',\n",
       " 'message_code',\n",
       " 'message_text',\n",
       " 'weather_lat',\n",
       " 'weather_lon',\n",
       " 'weather_city_id',\n",
       " 'weather_city_name',\n",
       " 'temp',\n",
       " 'pressure',\n",
       " 'humidity',\n",
       " 'wind_speed',\n",
       " 'wind_deg',\n",
       " 'rain_3h',\n",
       " 'clouds_all',\n",
       " 'weather_id',\n",
       " 'weather_main',\n",
       " 'weather_description']"
      ]
     },
     "execution_count": 16,
     "metadata": {},
     "output_type": "execute_result"
    }
   ],
   "source": [
    "# Check the No. of Columns\n",
    "\n",
    "df_main.columns"
   ]
  },
  {
   "cell_type": "markdown",
   "metadata": {},
   "source": [
    "<h3> Creating DIM_LOCATION Dimension </h3>"
   ]
  },
  {
   "cell_type": "code",
   "execution_count": 18,
   "metadata": {},
   "outputs": [],
   "source": [
    "DIM_LOCATION = df_main.select(\"atm_location\",\"atm_streetname\",\"atm_street_number\",\"atm_zipcode\",\"atm_lat\",\"atm_lon\").distinct()"
   ]
  },
  {
   "cell_type": "code",
   "execution_count": 19,
   "metadata": {},
   "outputs": [],
   "source": [
    "# Create Unique Key i.e. location_id\n",
    "\n",
    "DIM_LOCATION = DIM_LOCATION.withColumn('location_id', \n",
    "                    sf.concat(sf.col('atm_location'),\n",
    "                                        sf.lit('_'),\n",
    "                                        sf.col('atm_streetname'),\n",
    "                                        sf.lit('_'),\n",
    "                                        sf.col('atm_street_number')))"
   ]
  },
  {
   "cell_type": "code",
   "execution_count": 20,
   "metadata": {},
   "outputs": [
    {
     "name": "stdout",
     "output_type": "stream",
     "text": [
      "+-----------------+----------------+-----------------+-----------+-------+-------+--------------------+\n",
      "|     atm_location|  atm_streetname|atm_street_number|atm_zipcode|atm_lat|atm_lon|         location_id|\n",
      "+-----------------+----------------+-----------------+-----------+-------+-------+--------------------+\n",
      "|            Vadum|  Ellehammersvej|               43|       9430| 57.118|  9.861|Vadum_Ellehammers...|\n",
      "|         Slagelse| Mariendals Alle|               29|       4200| 55.398| 11.342|Slagelse_Marienda...|\n",
      "|       Fredericia|SjÃƒÂ¦llandsgade|               33|       7000| 55.564|  9.757|Fredericia_SjÃƒÂ¦...|\n",
      "|          Kolding|        Vejlevej|              135|       6000| 55.505|  9.457|Kolding_Vejlevej_135|\n",
      "|HÃƒÂ¸rning Hallen|        Toftevej|               53|       8362| 56.091| 10.033|HÃƒÂ¸rning Hallen...|\n",
      "+-----------------+----------------+-----------------+-----------+-------+-------+--------------------+\n",
      "only showing top 5 rows\n",
      "\n"
     ]
    }
   ],
   "source": [
    "# show data\n",
    "\n",
    "DIM_LOCATION.show(5)"
   ]
  },
  {
   "cell_type": "code",
   "execution_count": 21,
   "metadata": {},
   "outputs": [
    {
     "data": {
      "text/plain": [
       "109"
      ]
     },
     "execution_count": 21,
     "metadata": {},
     "output_type": "execute_result"
    }
   ],
   "source": [
    "# Check Count \n",
    "\n",
    "DIM_LOCATION.count()"
   ]
  },
  {
   "cell_type": "markdown",
   "metadata": {},
   "source": [
    "<h3>Creating DIM_CARD_TYPE Dimension</h3>"
   ]
  },
  {
   "cell_type": "code",
   "execution_count": 23,
   "metadata": {},
   "outputs": [
    {
     "name": "stdout",
     "output_type": "stream",
     "text": [
      "+----------+\n",
      "| card_type|\n",
      "+----------+\n",
      "|MasterCard|\n",
      "|MasterCard|\n",
      "|      VISA|\n",
      "|      VISA|\n",
      "|MasterCard|\n",
      "+----------+\n",
      "only showing top 5 rows\n",
      "\n"
     ]
    }
   ],
   "source": [
    "df_main.select(\"card_type\").show(5);"
   ]
  },
  {
   "cell_type": "code",
   "execution_count": 24,
   "metadata": {},
   "outputs": [],
   "source": [
    "DIM_CARD_TYPE = df_main.select(\"card_type\").distinct();"
   ]
  },
  {
   "cell_type": "code",
   "execution_count": 25,
   "metadata": {},
   "outputs": [],
   "source": [
    "#Create Unique Key i.e. card_type_id\n",
    "\n",
    "DIM_CARD_TYPE = DIM_CARD_TYPE.withColumn('card_type_id', \n",
    "                    sf.concat(sf.col('card_type'),\n",
    "                                        sf.lit('_'),\n",
    "                                        sf.lit('1')))"
   ]
  },
  {
   "cell_type": "code",
   "execution_count": 26,
   "metadata": {},
   "outputs": [
    {
     "name": "stdout",
     "output_type": "stream",
     "text": [
      "+------------------+--------------------+\n",
      "|         card_type|        card_type_id|\n",
      "+------------------+--------------------+\n",
      "|   Dankort - on-us|   Dankort - on-us_1|\n",
      "|            CIRRUS|            CIRRUS_1|\n",
      "|       HÃƒÂ¦vekort|       HÃƒÂ¦vekort_1|\n",
      "|              VISA|              VISA_1|\n",
      "|Mastercard - on-us|Mastercard - on-us_1|\n",
      "+------------------+--------------------+\n",
      "only showing top 5 rows\n",
      "\n"
     ]
    }
   ],
   "source": [
    "# show data\n",
    "\n",
    "DIM_CARD_TYPE.show(5)"
   ]
  },
  {
   "cell_type": "code",
   "execution_count": 27,
   "metadata": {},
   "outputs": [
    {
     "data": {
      "text/plain": [
       "12"
      ]
     },
     "execution_count": 27,
     "metadata": {},
     "output_type": "execute_result"
    }
   ],
   "source": [
    "# check count of data\n",
    "\n",
    "DIM_CARD_TYPE.count()"
   ]
  },
  {
   "cell_type": "markdown",
   "metadata": {},
   "source": [
    "<h3>Creating DIM_ATM Dimension\n",
    "</h3>"
   ]
  },
  {
   "cell_type": "code",
   "execution_count": 29,
   "metadata": {},
   "outputs": [
    {
     "name": "stdout",
     "output_type": "stream",
     "text": [
      "+------+----------------+\n",
      "|atm_id|atm_manufacturer|\n",
      "+------+----------------+\n",
      "|     1|             NCR|\n",
      "|     2|             NCR|\n",
      "|     2|             NCR|\n",
      "|     3|             NCR|\n",
      "|     4|             NCR|\n",
      "+------+----------------+\n",
      "only showing top 5 rows\n",
      "\n"
     ]
    }
   ],
   "source": [
    "df_main.select(\"atm_id\",\"atm_manufacturer\").show(5);"
   ]
  },
  {
   "cell_type": "code",
   "execution_count": 30,
   "metadata": {},
   "outputs": [],
   "source": [
    "# Fetch required columns\n",
    "\n",
    "DIM_ATM = df_main.select(\"atm_id\",\"atm_manufacturer\").distinct()"
   ]
  },
  {
   "cell_type": "code",
   "execution_count": 31,
   "metadata": {},
   "outputs": [],
   "source": [
    "# Create unique foreign key i.e. atm_location_id\n",
    "\n",
    "DIM_ATM = df_main.withColumn('atm_location_id', \n",
    "                    sf.concat(sf.col('atm_location'),\n",
    "                                        sf.lit('_'),\n",
    "                                        sf.col('atm_streetname'),\n",
    "                                        sf.lit('_'),\n",
    "                                        sf.col('atm_street_number')))"
   ]
  },
  {
   "cell_type": "code",
   "execution_count": 32,
   "metadata": {},
   "outputs": [],
   "source": [
    "\n",
    "DIM_ATM = DIM_ATM.withColumnRenamed(\"atm_id\", \"atm_number\")"
   ]
  },
  {
   "cell_type": "code",
   "execution_count": 33,
   "metadata": {},
   "outputs": [],
   "source": [
    "# Create unique i.e. atm_id\n",
    "\n",
    "DIM_ATM = DIM_ATM.withColumn('atm_id', \n",
    "                    sf.concat(sf.col('atm_number'),\n",
    "                                        sf.lit('_'),\n",
    "                                        sf.col('atm_manufacturer')))"
   ]
  },
  {
   "cell_type": "code",
   "execution_count": 34,
   "metadata": {},
   "outputs": [],
   "source": [
    "# Fetch required columns\n",
    "\n",
    "DIM_ATM = DIM_ATM.select(\"atm_id\",\"atm_manufacturer\",\"atm_number\",\"atm_location_id\").distinct()"
   ]
  },
  {
   "cell_type": "code",
   "execution_count": 35,
   "metadata": {},
   "outputs": [
    {
     "name": "stdout",
     "output_type": "stream",
     "text": [
      "root\n",
      " |-- atm_id: string (nullable = true)\n",
      " |-- atm_manufacturer: string (nullable = true)\n",
      " |-- atm_number: string (nullable = true)\n",
      " |-- atm_location_id: string (nullable = true)\n",
      "\n"
     ]
    }
   ],
   "source": [
    "# check schema\n",
    "\n",
    "DIM_ATM.printSchema()"
   ]
  },
  {
   "cell_type": "code",
   "execution_count": 36,
   "metadata": {},
   "outputs": [
    {
     "name": "stdout",
     "output_type": "stream",
     "text": [
      "+-----------------+----------------+----------+--------------------+\n",
      "|           atm_id|atm_manufacturer|atm_number|     atm_location_id|\n",
      "+-----------------+----------------+----------+--------------------+\n",
      "|7_Diebold Nixdorf| Diebold Nixdorf|         7|Hjallerup_Hjaller...|\n",
      "|           57_NCR|             NCR|        57|HillerÃƒÂ¸d_KÃƒÂ¸...|\n",
      "|           76_NCR|             NCR|        76|DAYZ Feriecenter_...|\n",
      "|           42_NCR|             NCR|        42|Vinderup_SÃƒÂ¸nde...|\n",
      "|          101_NCR|             NCR|       101|Bryggen  Vejle_SÃ...|\n",
      "+-----------------+----------------+----------+--------------------+\n",
      "only showing top 5 rows\n",
      "\n"
     ]
    }
   ],
   "source": [
    "DIM_ATM.show(5)"
   ]
  },
  {
   "cell_type": "code",
   "execution_count": 38,
   "metadata": {},
   "outputs": [
    {
     "data": {
      "text/plain": [
       "113"
      ]
     },
     "execution_count": 38,
     "metadata": {},
     "output_type": "execute_result"
    }
   ],
   "source": [
    "# check count\n",
    "\n",
    "DIM_ATM.count()"
   ]
  },
  {
   "cell_type": "markdown",
   "metadata": {},
   "source": [
    "<h3>Creating DIM_DATE Dimension </h3>"
   ]
  },
  {
   "cell_type": "code",
   "execution_count": 40,
   "metadata": {},
   "outputs": [
    {
     "name": "stdout",
     "output_type": "stream",
     "text": [
      "+----+-------+---+----+-------+\n",
      "|year|  month|day|hour|weekday|\n",
      "+----+-------+---+----+-------+\n",
      "|2017|January|  1|   0| Sunday|\n",
      "|2017|January|  1|   0| Sunday|\n",
      "|2017|January|  1|   0| Sunday|\n",
      "|2017|January|  1|   0| Sunday|\n",
      "|2017|January|  1|   0| Sunday|\n",
      "+----+-------+---+----+-------+\n",
      "only showing top 5 rows\n",
      "\n"
     ]
    }
   ],
   "source": [
    "df_main.select(\"year\",\"month\",\"day\",\"hour\",\"weekday\").show(5);"
   ]
  },
  {
   "cell_type": "code",
   "execution_count": 41,
   "metadata": {},
   "outputs": [],
   "source": [
    "# Fetch required columns\n",
    "\n",
    "DIM_DATE = df_main.select(\"year\",\"month\",\"day\",\"hour\",\"weekday\").distinct()"
   ]
  },
  {
   "cell_type": "code",
   "execution_count": 42,
   "metadata": {},
   "outputs": [],
   "source": [
    "# create full_date_time field by concatinating required fields\n",
    "\n",
    "from pyspark.sql import functions as sf\n",
    "\n",
    "DIM_DATE = DIM_DATE.withColumn('full_date_time', \n",
    "                    sf.concat(sf.col('year'), sf.col('month'), sf.col('day'),sf.lit(' '),sf.col('hour')))"
   ]
  },
  {
   "cell_type": "code",
   "execution_count": 43,
   "metadata": {},
   "outputs": [],
   "source": [
    "# change the data type to time stamp\n",
    "\n",
    "from pyspark.sql.functions import *\n",
    "pattern1 = 'yyyyMMMMddHH'\n",
    "\n",
    "DIM_DATE = DIM_DATE.withColumn('full_date_time', unix_timestamp(DIM_DATE[\"full_date_time\"], pattern1).cast('timestamp'))\n"
   ]
  },
  {
   "cell_type": "code",
   "execution_count": 44,
   "metadata": {},
   "outputs": [
    {
     "name": "stdout",
     "output_type": "stream",
     "text": [
      "root\n",
      " |-- year: integer (nullable = true)\n",
      " |-- month: string (nullable = true)\n",
      " |-- day: integer (nullable = true)\n",
      " |-- hour: integer (nullable = true)\n",
      " |-- weekday: string (nullable = true)\n",
      " |-- full_date_time: timestamp (nullable = true)\n",
      "\n"
     ]
    }
   ],
   "source": [
    "# check schema\n",
    "\n",
    "DIM_DATE.printSchema()"
   ]
  },
  {
   "cell_type": "code",
   "execution_count": 45,
   "metadata": {},
   "outputs": [],
   "source": [
    "# create unique key i.e. date_id\n",
    "\n",
    "DIM_DATE = DIM_DATE.withColumn('date_id', \n",
    "                    sf.concat(sf.col('year'), sf.col('month'), sf.col('day'),sf.lit(' '),sf.col('hour')))"
   ]
  },
  {
   "cell_type": "code",
   "execution_count": 46,
   "metadata": {},
   "outputs": [
    {
     "name": "stdout",
     "output_type": "stream",
     "text": [
      "+----+-------+---+----+--------+-------------------+----------------+\n",
      "|year|  month|day|hour| weekday|     full_date_time|         date_id|\n",
      "+----+-------+---+----+--------+-------------------+----------------+\n",
      "|2017|January|  1|   9|  Sunday|2017-01-01 09:00:00|  2017January1 9|\n",
      "|2017|January|  3|   5| Tuesday|2017-01-03 05:00:00|  2017January3 5|\n",
      "|2017|January|  8|  19|  Sunday|2017-01-08 19:00:00| 2017January8 19|\n",
      "|2017|January| 21|   3|Saturday|2017-01-21 03:00:00| 2017January21 3|\n",
      "|2017|January| 23|  21|  Monday|2017-01-23 21:00:00|2017January23 21|\n",
      "+----+-------+---+----+--------+-------------------+----------------+\n",
      "only showing top 5 rows\n",
      "\n"
     ]
    }
   ],
   "source": [
    "# show data\n",
    "\n",
    "DIM_DATE.show(5)"
   ]
  },
  {
   "cell_type": "code",
   "execution_count": 47,
   "metadata": {},
   "outputs": [
    {
     "data": {
      "text/plain": [
       "8685"
      ]
     },
     "execution_count": 47,
     "metadata": {},
     "output_type": "execute_result"
    }
   ],
   "source": [
    "# check count\n",
    "\n",
    "DIM_DATE.count()"
   ]
  },
  {
   "cell_type": "markdown",
   "metadata": {},
   "source": [
    "<h3>Creating FACT_ATM_TRANS Dimension</h3>"
   ]
  },
  {
   "cell_type": "code",
   "execution_count": 49,
   "metadata": {},
   "outputs": [],
   "source": [
    "# Fetch required columns\n",
    "\n",
    "FACT_ATM_TRANS = df_main.select(\"atm_status\",\"currency\",\"service\",\"transaction_amount\",\"message_code\",\"message_text\",\"rain_3h\",\"clouds_all\",\"weather_id\",\"weather_main\",\"weather_description\"\n",
    "                               ,\"atm_location\",\"atm_streetname\",\"atm_street_number\"\n",
    "                               ,\"year\",\"month\",\"day\",\"hour\"\n",
    "                               ,\"atm_id\",\"atm_manufacturer\"\n",
    "                               ,\"card_type\")"
   ]
  },
  {
   "cell_type": "code",
   "execution_count": 50,
   "metadata": {},
   "outputs": [],
   "source": [
    "# create unique field foreign key i.e. weather_loc_id\n",
    "    \n",
    "FACT_ATM_TRANS = FACT_ATM_TRANS.withColumn('weather_loc_id', \n",
    "                    sf.concat(sf.col('atm_location'),\n",
    "                                        sf.lit('_'),\n",
    "                                        sf.col('atm_streetname'),\n",
    "                                        sf.lit('_'),\n",
    "                                        sf.col('atm_street_number')))"
   ]
  },
  {
   "cell_type": "code",
   "execution_count": 51,
   "metadata": {},
   "outputs": [],
   "source": [
    "# create unique field foreign key i.e. date_id\n",
    "\n",
    "FACT_ATM_TRANS = FACT_ATM_TRANS.withColumn('date_id', \n",
    "                    sf.concat(sf.col('year'), sf.col('month'), sf.col('day'),sf.lit(' '),sf.col('hour')))"
   ]
  },
  {
   "cell_type": "code",
   "execution_count": 52,
   "metadata": {},
   "outputs": [],
   "source": [
    "# create unique field foreign key i.e. atm_id\n",
    "\n",
    "FACT_ATM_TRANS = FACT_ATM_TRANS.withColumn('atm_id', \n",
    "                    sf.concat(sf.col('atm_id'),\n",
    "                                        sf.lit('_'),\n",
    "                                        sf.col('atm_manufacturer')))"
   ]
  },
  {
   "cell_type": "code",
   "execution_count": 53,
   "metadata": {},
   "outputs": [],
   "source": [
    "# create unique field foreign key i.e. card_type_id\n",
    "\n",
    "FACT_ATM_TRANS = FACT_ATM_TRANS.withColumn('card_type_id', \n",
    "                    sf.concat(sf.col('card_type'),\n",
    "                                        sf.lit('_'),\n",
    "                                        sf.lit('1')))"
   ]
  },
  {
   "cell_type": "code",
   "execution_count": 54,
   "metadata": {},
   "outputs": [],
   "source": [
    "# create unique field i.e. trans_id\n",
    "\n",
    "FACT_ATM_TRANS = FACT_ATM_TRANS.withColumn('trans_id', \n",
    "                    sf.concat(sf.col('weather_loc_id'),\n",
    "                                        sf.lit('_'),\n",
    "                                        sf.lit('date_id'),\n",
    "                                        sf.lit('_'),\n",
    "                                        sf.lit('atm_id'),\n",
    "                                        sf.lit('_'),\n",
    "                                        sf.lit('card_type_id')))"
   ]
  },
  {
   "cell_type": "code",
   "execution_count": 55,
   "metadata": {},
   "outputs": [
    {
     "name": "stdout",
     "output_type": "stream",
     "text": [
      "+----------+--------+----------+------------------+------------+------------+-------+----------+----------+------------+--------------------+------------+-------------------+-----------------+----+-------+---+----+------+----------------+----------+--------------------+--------------+------------+--------------------+\n",
      "|atm_status|currency|   service|transaction_amount|message_code|message_text|rain_3h|clouds_all|weather_id|weather_main| weather_description|atm_location|     atm_streetname|atm_street_number|year|  month|day|hour|atm_id|atm_manufacturer| card_type|      weather_loc_id|       date_id|card_type_id|            trans_id|\n",
      "+----------+--------+----------+------------------+------------+------------+-------+----------+----------+------------+--------------------+------------+-------------------+-----------------+----+-------+---+----+------+----------------+----------+--------------------+--------------+------------+--------------------+\n",
      "|    Active|     DKK|Withdrawal|              5643|        null|        null|  0.215|        92|       500|        Rain|          light rain|  NÃƒÂ¦stved|        Farimagsvej|                8|2017|January|  1|   0| 1_NCR|             NCR|MasterCard|NÃƒÂ¦stved_Farima...|2017January1 0|MasterCard_1|NÃƒÂ¦stved_Farima...|\n",
      "|  Inactive|     DKK|Withdrawal|              1764|        null|        null|   0.59|        92|       500|        Rain|          light rain|    Vejgaard|         Hadsundvej|               20|2017|January|  1|   0| 2_NCR|             NCR|MasterCard|Vejgaard_Hadsundv...|2017January1 0|MasterCard_1|Vejgaard_Hadsundv...|\n",
      "|  Inactive|     DKK|Withdrawal|              1891|        null|        null|   0.59|        92|       500|        Rain|          light rain|    Vejgaard|         Hadsundvej|               20|2017|January|  1|   0| 2_NCR|             NCR|      VISA|Vejgaard_Hadsundv...|2017January1 0|      VISA_1|Vejgaard_Hadsundv...|\n",
      "|  Inactive|     DKK|Withdrawal|              4166|        null|        null|    0.0|        75|       300|     Drizzle|light intensity d...|       Ikast|RÃƒÂ¥dhusstrÃƒÂ¦det|               12|2017|January|  1|   0| 3_NCR|             NCR|      VISA|Ikast_RÃƒÂ¥dhusst...|2017January1 0|      VISA_1|Ikast_RÃƒÂ¥dhusst...|\n",
      "|    Active|     DKK|Withdrawal|              5153|        null|        null|    0.0|        88|       701|        Mist|                mist|  Svogerslev|       BrÃƒÂ¸nsager|                1|2017|January|  1|   0| 4_NCR|             NCR|MasterCard|Svogerslev_BrÃƒÂ¸...|2017January1 0|MasterCard_1|Svogerslev_BrÃƒÂ¸...|\n",
      "+----------+--------+----------+------------------+------------+------------+-------+----------+----------+------------+--------------------+------------+-------------------+-----------------+----+-------+---+----+------+----------------+----------+--------------------+--------------+------------+--------------------+\n",
      "only showing top 5 rows\n",
      "\n"
     ]
    }
   ],
   "source": [
    "# check data\n",
    "\n",
    "FACT_ATM_TRANS.show(5)"
   ]
  },
  {
   "cell_type": "code",
   "execution_count": 56,
   "metadata": {},
   "outputs": [],
   "source": [
    "# select required fields\n",
    "\n",
    "FACT_ATM_TRANS = FACT_ATM_TRANS.select(\"trans_id\",\"atm_id\",\"weather_loc_id\",\"date_id\",\"card_type_id\",\"atm_status\",\"currency\",\"service\",\"transaction_amount\",\"message_code\",\"message_text\",\"rain_3h\",\"clouds_all\",\"weather_id\",\"weather_main\",\"weather_description\")"
   ]
  },
  {
   "cell_type": "code",
   "execution_count": 57,
   "metadata": {},
   "outputs": [
    {
     "name": "stdout",
     "output_type": "stream",
     "text": [
      "+--------------------+------+--------------------+--------------+------------+----------+--------+----------+------------------+------------+------------+-------+----------+----------+------------+--------------------+\n",
      "|            trans_id|atm_id|      weather_loc_id|       date_id|card_type_id|atm_status|currency|   service|transaction_amount|message_code|message_text|rain_3h|clouds_all|weather_id|weather_main| weather_description|\n",
      "+--------------------+------+--------------------+--------------+------------+----------+--------+----------+------------------+------------+------------+-------+----------+----------+------------+--------------------+\n",
      "|NÃƒÂ¦stved_Farima...| 1_NCR|NÃƒÂ¦stved_Farima...|2017January1 0|MasterCard_1|    Active|     DKK|Withdrawal|              5643|        null|        null|  0.215|        92|       500|        Rain|          light rain|\n",
      "|Vejgaard_Hadsundv...| 2_NCR|Vejgaard_Hadsundv...|2017January1 0|MasterCard_1|  Inactive|     DKK|Withdrawal|              1764|        null|        null|   0.59|        92|       500|        Rain|          light rain|\n",
      "|Vejgaard_Hadsundv...| 2_NCR|Vejgaard_Hadsundv...|2017January1 0|      VISA_1|  Inactive|     DKK|Withdrawal|              1891|        null|        null|   0.59|        92|       500|        Rain|          light rain|\n",
      "|Ikast_RÃƒÂ¥dhusst...| 3_NCR|Ikast_RÃƒÂ¥dhusst...|2017January1 0|      VISA_1|  Inactive|     DKK|Withdrawal|              4166|        null|        null|    0.0|        75|       300|     Drizzle|light intensity d...|\n",
      "|Svogerslev_BrÃƒÂ¸...| 4_NCR|Svogerslev_BrÃƒÂ¸...|2017January1 0|MasterCard_1|    Active|     DKK|Withdrawal|              5153|        null|        null|    0.0|        88|       701|        Mist|                mist|\n",
      "+--------------------+------+--------------------+--------------+------------+----------+--------+----------+------------------+------------+------------+-------+----------+----------+------------+--------------------+\n",
      "only showing top 5 rows\n",
      "\n"
     ]
    }
   ],
   "source": [
    "# check data\n",
    "\n",
    "FACT_ATM_TRANS.show(5)"
   ]
  },
  {
   "cell_type": "code",
   "execution_count": 58,
   "metadata": {},
   "outputs": [
    {
     "data": {
      "text/plain": [
       "2468572"
      ]
     },
     "execution_count": 58,
     "metadata": {},
     "output_type": "execute_result"
    }
   ],
   "source": [
    "# check count\n",
    "\n",
    "FACT_ATM_TRANS.count()"
   ]
  },
  {
   "cell_type": "markdown",
   "metadata": {},
   "source": [
    "<h2>Number of records that are imported after the Sqoop Job</h2>"
   ]
  },
  {
   "cell_type": "code",
   "execution_count": 60,
   "metadata": {},
   "outputs": [
    {
     "data": {
      "text/plain": [
       "2468572"
      ]
     },
     "execution_count": 60,
     "metadata": {},
     "output_type": "execute_result"
    }
   ],
   "source": [
    "df.count()"
   ]
  },
  {
   "cell_type": "markdown",
   "metadata": {},
   "source": [
    "<h2>Count after importing data into a dataframe</h2>"
   ]
  },
  {
   "cell_type": "code",
   "execution_count": 61,
   "metadata": {},
   "outputs": [
    {
     "data": {
      "text/plain": [
       "2468572"
      ]
     },
     "execution_count": 61,
     "metadata": {},
     "output_type": "execute_result"
    }
   ],
   "source": [
    "df_main.count()"
   ]
  },
  {
   "cell_type": "markdown",
   "metadata": {},
   "source": [
    "<h2>Count for the Location Dimension</h2>"
   ]
  },
  {
   "cell_type": "code",
   "execution_count": 63,
   "metadata": {},
   "outputs": [
    {
     "data": {
      "text/plain": [
       "109"
      ]
     },
     "execution_count": 63,
     "metadata": {},
     "output_type": "execute_result"
    }
   ],
   "source": [
    "DIM_LOCATION.count()"
   ]
  },
  {
   "cell_type": "markdown",
   "metadata": {},
   "source": [
    "<h2>Count for the Card Type Dimension</h2>"
   ]
  },
  {
   "cell_type": "code",
   "execution_count": 64,
   "metadata": {},
   "outputs": [
    {
     "data": {
      "text/plain": [
       "12"
      ]
     },
     "execution_count": 64,
     "metadata": {},
     "output_type": "execute_result"
    }
   ],
   "source": [
    "DIM_CARD_TYPE.count()"
   ]
  },
  {
   "cell_type": "markdown",
   "metadata": {},
   "source": [
    "<h2>Count for the ATM Dimension</h2>"
   ]
  },
  {
   "cell_type": "code",
   "execution_count": 65,
   "metadata": {},
   "outputs": [
    {
     "data": {
      "text/plain": [
       "113"
      ]
     },
     "execution_count": 65,
     "metadata": {},
     "output_type": "execute_result"
    }
   ],
   "source": [
    "DIM_ATM.count()"
   ]
  },
  {
   "cell_type": "markdown",
   "metadata": {},
   "source": [
    "<h2>Count for the Date Dimension</h2>"
   ]
  },
  {
   "cell_type": "code",
   "execution_count": 66,
   "metadata": {},
   "outputs": [
    {
     "data": {
      "text/plain": [
       "8685"
      ]
     },
     "execution_count": 66,
     "metadata": {},
     "output_type": "execute_result"
    }
   ],
   "source": [
    "DIM_DATE.count()"
   ]
  },
  {
   "cell_type": "markdown",
   "metadata": {},
   "source": [
    "<h2>count for the all the Stages in the creation of Transaction Fact table</h2>"
   ]
  },
  {
   "cell_type": "code",
   "execution_count": 67,
   "metadata": {},
   "outputs": [
    {
     "data": {
      "text/plain": [
       "2468572"
      ]
     },
     "execution_count": 67,
     "metadata": {},
     "output_type": "execute_result"
    }
   ],
   "source": [
    "FACT_ATM_TRANS.count()"
   ]
  },
  {
   "cell_type": "markdown",
   "metadata": {},
   "source": [
    "<h1> Loading data into S3 bucket </h1>"
   ]
  },
  {
   "cell_type": "code",
   "execution_count": null,
   "metadata": {},
   "outputs": [],
   "source": [
    "DIM_LOCATION.coalesce(1).write.options(\"header\",\"true\").format(\"csv\").save(\"s3a://sbetlcasestudy/tables/DIM_LOCATION\")"
   ]
  },
  {
   "cell_type": "code",
   "execution_count": null,
   "metadata": {},
   "outputs": [],
   "source": [
    "DIM_CARD_TYPE.coalesce(1).write.options(\"header\",\"true\").format(\"csv\").save(\"s3a://sbetlcasestudy/tables/DIM_CARD_TYPE\")"
   ]
  },
  {
   "cell_type": "code",
   "execution_count": null,
   "metadata": {},
   "outputs": [],
   "source": [
    "DIM_ATM.coalesce(1).write.options(\"header\",\"true\").format(\"csv\").save(\"s3a://sbetlcasestudy/tables/DIM_ATM\")"
   ]
  },
  {
   "cell_type": "code",
   "execution_count": null,
   "metadata": {},
   "outputs": [],
   "source": [
    "DIM_DATE.coalesce(1).write.options(\"header\",\"true\").format(\"csv\").save(\"s3a://sbetlcasestudy/tables/DIM_DATE\")"
   ]
  },
  {
   "cell_type": "code",
   "execution_count": null,
   "metadata": {},
   "outputs": [],
   "source": [
    "FACT_ATM_TRANS.coalesce(1).write.options(\"header\",\"true\").format(\"csv\").save(\"s3a://sbetlcasestudy/tables/FACT_ATM_TRANS\")"
   ]
  }
 ],
 "metadata": {
  "kernelspec": {
   "display_name": "Python 3",
   "language": "python",
   "name": "python3"
  },
  "language_info": {
   "codemirror_mode": {
    "name": "ipython",
    "version": 3
   },
   "file_extension": ".py",
   "mimetype": "text/x-python",
   "name": "python",
   "nbconvert_exporter": "python",
   "pygments_lexer": "ipython3",
   "version": "3.7.6"
  }
 },
 "nbformat": 4,
 "nbformat_minor": 2
}
